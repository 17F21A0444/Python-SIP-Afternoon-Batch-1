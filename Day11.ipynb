{
 "cells": [
  {
   "cell_type": "markdown",
   "metadata": {},
   "source": [
    "- Prasanth\n",
    "- Satyavani\n",
    "- elisha\n",
    "- Padmini\n",
    "- Devika\n",
    "- Sravanakalhari\n",
    "- Anjali\n",
    "- lekha sri\n",
    "- Divya\n",
    "- sravani\n",
    "- Vyshanvi"
   ]
  },
  {
   "cell_type": "markdown",
   "metadata": {},
   "source": [
    "```\n",
    "\"\\\" ->\n",
    "```"
   ]
  },
  {
   "cell_type": "markdown",
   "metadata": {},
   "source": [
    "```\n",
    "\"\\s\"->it returns a match if a string contains any whitw spaces\n",
    "\"\\S\"->it returns a match if a string does not contain any whitespaces\n",
    "```"
   ]
  },
  {
   "cell_type": "code",
   "execution_count": 7,
   "metadata": {},
   "outputs": [
    {
     "name": "stdout",
     "output_type": "stream",
     "text": [
      "[' ']\n",
      "['r', 'a', 'v', 'i', 'k', 'i', 'h', 's', 'n', 'h', 'o', 'r', 'e']\n"
     ]
    }
   ],
   "source": [
    "import re\n",
    "print(re.findall(\"\\s\",\"ravi kishore\"))\n",
    "print(re.findall(\"\\S\",\"ravi ki hsnh ore\"))"
   ]
  },
  {
   "cell_type": "markdown",
   "metadata": {},
   "source": [
    "```\n",
    "\"{}\"-> The specified number of occurrences of a pattern the string\n",
    "```"
   ]
  },
  {
   "cell_type": "markdown",
   "metadata": {},
   "source": [
    "**Phone number validation**\n",
    "ex - 9876541230\n",
    "- numbers must contain 10 digits\n",
    "- start with 6-9\n",
    "ex - +91"
   ]
  },
  {
   "cell_type": "code",
   "execution_count": 62,
   "metadata": {},
   "outputs": [],
   "source": [
    "def phoneValidation(number):\n",
    "    pattern=\"^[6-9][0-9]{9}$|^[.][91][6-9][0-9]{9}$\"\n",
    "    if re.search(pattern,str(number)):\n",
    "        return True\n",
    "    return False"
   ]
  },
  {
   "cell_type": "code",
   "execution_count": 24,
   "metadata": {
    "scrolled": true
   },
   "outputs": [
    {
     "name": "stdout",
     "output_type": "stream",
     "text": [
      "+919874563210\n"
     ]
    },
    {
     "data": {
      "text/plain": [
       "True"
      ]
     },
     "execution_count": 24,
     "metadata": {},
     "output_type": "execute_result"
    }
   ],
   "source": [
    "number=input()\n",
    "phoneValidation(number)"
   ]
  },
  {
   "cell_type": "markdown",
   "metadata": {},
   "source": [
    "**emailValidation**\n",
    "```\n",
    "ex: r avikishore@apssdc.in\n",
    "\n",
    "- username \"^[a-z0-9][a-z0-9._]{6,35}\"\n",
    "- @        \"[@]\"\n",
    "- domain   \"[a-z]{3,15}\"\n",
    "- extension \"[.][a-z]{2,5}\"\n",
    "```\n"
   ]
  },
  {
   "cell_type": "code",
   "execution_count": 25,
   "metadata": {},
   "outputs": [],
   "source": [
    "def emailValidation(email):\n",
    "    pattern=\"^[a-z0-9][a-z0-9._]{6,35}[@][a-z]{3,15}[.][a-z]{2,5}$\"\n",
    "    if re.search(pattern,email):\n",
    "        return True\n",
    "    return False\n",
    "    "
   ]
  },
  {
   "cell_type": "code",
   "execution_count": 28,
   "metadata": {
    "scrolled": true
   },
   "outputs": [
    {
     "name": "stdout",
     "output_type": "stream",
     "text": [
      "ravikishore@apssdc.in\n"
     ]
    },
    {
     "data": {
      "text/plain": [
       "True"
      ]
     },
     "execution_count": 28,
     "metadata": {},
     "output_type": "execute_result"
    }
   ],
   "source": [
    "email=input()\n",
    "emailValidation(email)"
   ]
  },
  {
   "cell_type": "code",
   "execution_count": 54,
   "metadata": {},
   "outputs": [
    {
     "data": {
      "text/plain": [
       "'\\n{\"name1\":98745,}\\n'"
      ]
     },
     "execution_count": 54,
     "metadata": {},
     "output_type": "execute_result"
    }
   ],
   "source": [
    "contacts={}\n",
    "\n",
    "'''\n",
    "{\"name1\":98745,}\n",
    "'''"
   ]
  },
  {
   "cell_type": "code",
   "execution_count": 45,
   "metadata": {},
   "outputs": [
    {
     "name": "stdout",
     "output_type": "stream",
     "text": [
      "enter user inputs: 3\n",
      "padmini 98745\n",
      "added successfully\n",
      "satyavani 45789\n",
      "added successfully\n",
      "prasanth 585858\n",
      "added successfully\n"
     ]
    }
   ],
   "source": [
    "def addcontact(name,phone):\n",
    "    if name not in contacts:\n",
    "        contacts[name]=phone\n",
    "        print(\"added successfully\")\n",
    "    else:\n",
    "        print(\"contact already existed\")\n",
    "#addcontact(\"prasanth\",787878)\n",
    "#addcontact(\"satyavani\",454545)\n",
    "#addcontact(\"padmini\",56565)\n",
    "n=int(input(\"enter user inputs: \"))\n",
    "for i in range(0,n):\n",
    "    a=input().split()\n",
    "    nam=a[0]\n",
    "    phon=a[1]\n",
    "    addcontact(nam,phon)\n",
    "    "
   ]
  },
  {
   "cell_type": "code",
   "execution_count": 55,
   "metadata": {},
   "outputs": [
    {
     "data": {
      "text/plain": [
       "{}"
      ]
     },
     "execution_count": 55,
     "metadata": {},
     "output_type": "execute_result"
    }
   ],
   "source": [
    "contacts"
   ]
  },
  {
   "cell_type": "code",
   "execution_count": 48,
   "metadata": {},
   "outputs": [
    {
     "name": "stdout",
     "output_type": "stream",
     "text": [
      "updated successfully\n",
      "this contact not in contacts list\n"
     ]
    }
   ],
   "source": [
    "def Update(name,phone):\n",
    "    if name in contacts:\n",
    "        contacts[name]=phone\n",
    "        print(\"updated successfully\")\n",
    "    else:\n",
    "        print(\"this contact not in contacts list\")\n",
    "Update(\"prasanth\",686868)\n",
    "Update(\"prasa\",54545)"
   ]
  },
  {
   "cell_type": "code",
   "execution_count": 49,
   "metadata": {},
   "outputs": [
    {
     "name": "stdout",
     "output_type": "stream",
     "text": [
      "delete successfully\n"
     ]
    }
   ],
   "source": [
    "def removecontact(name):\n",
    "    if name in contacts:\n",
    "        contacts.pop(name)\n",
    "        print(\"delete successfully\")\n",
    "    else:\n",
    "        print(\"name not in contacts list\")\n",
    "removecontact(\"prasanth\")"
   ]
  },
  {
   "cell_type": "code",
   "execution_count": 50,
   "metadata": {},
   "outputs": [
    {
     "data": {
      "text/plain": [
       "{'padmini': '98745', 'satyavani': '45789'}"
      ]
     },
     "execution_count": 50,
     "metadata": {},
     "output_type": "execute_result"
    }
   ],
   "source": [
    "contacts"
   ]
  },
  {
   "cell_type": "code",
   "execution_count": 51,
   "metadata": {},
   "outputs": [],
   "source": [
    "def getcontact(name):\n",
    "    if name in contacts:\n",
    "        print(contacts[name])\n",
    "    else:\n",
    "        print(name,\" not in contact list\")"
   ]
  },
  {
   "cell_type": "code",
   "execution_count": 53,
   "metadata": {},
   "outputs": [
    {
     "name": "stdout",
     "output_type": "stream",
     "text": [
      "98745\n"
     ]
    }
   ],
   "source": [
    "getcontact(\"padmini\")"
   ]
  },
  {
   "cell_type": "code",
   "execution_count": 72,
   "metadata": {},
   "outputs": [
    {
     "name": "stdout",
     "output_type": "stream",
     "text": [
      "Invalid email \n"
     ]
    }
   ],
   "source": [
    "def validationchecking(name,phone,email):\n",
    "    if name not in contacts:\n",
    "        if not phoneValidation(phone):\n",
    "            print(\"Invalid phone number\")\n",
    "            return \n",
    "        if not emailValidation(email):\n",
    "            print(\"Invalid email \")\n",
    "            return\n",
    "        empty_list=[]\n",
    "        empty_list.append(phone)\n",
    "        empty_list.append(email)\n",
    "        contacts[name]=empty_list\n",
    "        return\n",
    "    else:\n",
    "        print(name,\" already exist\")\n",
    "        return\n",
    "validationchecking(\"prasanth4\",9874563210,\"prasanthgmail.com\")  "
   ]
  },
  {
   "cell_type": "code",
   "execution_count": 73,
   "metadata": {},
   "outputs": [
    {
     "data": {
      "text/plain": [
       "{'prasanth': ['9874563210', 'prasanth@gmail.com'],\n",
       " 'prasanth1': [9874563210, 'prasanth@gmail.com'],\n",
       " 'prasanth2': [98745632, 'prasanth@gmail.com'],\n",
       " 'prasanth3': [9874563210, 'prasanthgmail.com']}"
      ]
     },
     "execution_count": 73,
     "metadata": {},
     "output_type": "execute_result"
    }
   ],
   "source": [
    "contacts"
   ]
  },
  {
   "cell_type": "markdown",
   "metadata": {},
   "source": [
    "**File and File Handlings**\n",
    "- File is collection data or into \n",
    "- some file types \n",
    "    - text(.txt),\n",
    "    - images file(.jpg,.png)\n",
    "    - audio file(.mp3)\n",
    "    - video file(.mp4)"
   ]
  },
  {
   "cell_type": "markdown",
   "metadata": {},
   "source": [
    "- python considered two types file\n",
    "     - text file\n",
    "     - binary file"
   ]
  },
  {
   "cell_type": "markdown",
   "metadata": {},
   "source": [
    "**a file operation can be done following order**\n",
    "- openfile\n",
    "- read or write operation\n",
    "- close the file"
   ]
  },
  {
   "cell_type": "markdown",
   "metadata": {},
   "source": [
    "**Crud Operation**\n",
    "c- create\n",
    "r - read\n",
    "u - update\n",
    "d - delete"
   ]
  },
  {
   "cell_type": "markdown",
   "metadata": {},
   "source": [
    "```\n",
    "syntax\n",
    "\n",
    "open(filepath,mode)\n",
    "```\n",
    "mode\n",
    "w(write)\n",
    "r(read)\n",
    "a(append)"
   ]
  },
  {
   "cell_type": "markdown",
   "metadata": {},
   "source": [
    "```\n",
    "\"w\"-> create a new file if the file has not existed.if file existed overwrite the data\n",
    "```"
   ]
  },
  {
   "cell_type": "code",
   "execution_count": 77,
   "metadata": {},
   "outputs": [
    {
     "name": "stdout",
     "output_type": "stream",
     "text": [
      "data added successfully\n"
     ]
    }
   ],
   "source": [
    "f=open(\"padmini.txt\",\"w\")\n",
    "f.write(\"over writes the data\")\n",
    "f.close()\n",
    "if f:\n",
    "    print(\"data added successfully\")"
   ]
  },
  {
   "cell_type": "markdown",
   "metadata": {},
   "source": [
    "```\n",
    "\"r\"->if file existed read the data \n",
    "```"
   ]
  },
  {
   "cell_type": "code",
   "execution_count": 78,
   "metadata": {},
   "outputs": [
    {
     "name": "stdout",
     "output_type": "stream",
     "text": [
      "over writes the data\n"
     ]
    }
   ],
   "source": [
    "f=open(\"padmini.txt\",\"r\")\n",
    "print(f.read())\n",
    "f.close()"
   ]
  },
  {
   "cell_type": "markdown",
   "metadata": {},
   "source": [
    "```\n",
    "\"a\"->if a file existd update the data in last cursor position.if not existed create new file\n",
    "```"
   ]
  },
  {
   "cell_type": "code",
   "execution_count": 79,
   "metadata": {},
   "outputs": [],
   "source": [
    "f=open(\"sravankalhari.txt\",\"a\")\n",
    "f.write(\"update the data\")\n",
    "f.close()"
   ]
  },
  {
   "cell_type": "code",
   "execution_count": 80,
   "metadata": {},
   "outputs": [],
   "source": [
    "f=open(\"padmini.txt\",\"a\")\n",
    "f.write(\"append mode\")\n",
    "f.close()"
   ]
  },
  {
   "cell_type": "code",
   "execution_count": 81,
   "metadata": {},
   "outputs": [
    {
     "data": {
      "text/plain": [
       "'update the data'"
      ]
     },
     "execution_count": 81,
     "metadata": {},
     "output_type": "execute_result"
    }
   ],
   "source": [
    "f=open(\"sravankalhari.txt\",\"r\")\n",
    "f.read()"
   ]
  },
  {
   "cell_type": "markdown",
   "metadata": {},
   "source": [
    "**with statement**\n",
    "- the best way to close a file by using with statement"
   ]
  },
  {
   "cell_type": "code",
   "execution_count": 83,
   "metadata": {
    "scrolled": true
   },
   "outputs": [
    {
     "name": "stdout",
     "output_type": "stream",
     "text": [
      "over writes the dataappend mode\n"
     ]
    }
   ],
   "source": [
    "with open(\"padmini.txt\",\"r\") as f:\n",
    "    print(f.read())"
   ]
  },
  {
   "cell_type": "markdown",
   "metadata": {},
   "source": [
    "readline()\n",
    "readlines()"
   ]
  },
  {
   "cell_type": "code",
   "execution_count": 101,
   "metadata": {},
   "outputs": [
    {
     "name": "stdout",
     "output_type": "stream",
     "text": [
      "line1 \n",
      "\n",
      "line2\n",
      "\n",
      "line3\n",
      "\n"
     ]
    }
   ],
   "source": [
    "with open(\"sample.txt\",\"r\") as f:\n",
    "    for i in range(0,3):\n",
    "        print(f.readline())"
   ]
  },
  {
   "cell_type": "code",
   "execution_count": 90,
   "metadata": {},
   "outputs": [
    {
     "name": "stdout",
     "output_type": "stream",
     "text": [
      "['line1\\n', 'line2\\n', 'line3\\n', 'line4\\n', 'line5']\n"
     ]
    }
   ],
   "source": [
    "with open(\"sample.txt\",\"r\") as f:\n",
    "    print(f.readlines())"
   ]
  },
  {
   "cell_type": "code",
   "execution_count": 103,
   "metadata": {},
   "outputs": [],
   "source": [
    "def emailvalidation(email):\n",
    "    pattern=\"^[a-z0-9][a-z0-9._]{6,35}[@[a-z{3-15}[.][a-z]{2,5}$\"\n",
    "    if re.search(pattern,email):\n",
    "        return True\n",
    "    return False"
   ]
  },
  {
   "cell_type": "code",
   "execution_count": null,
   "metadata": {},
   "outputs": [],
   "source": []
  }
 ],
 "metadata": {
  "kernelspec": {
   "display_name": "Python 3",
   "language": "python",
   "name": "python3"
  },
  "language_info": {
   "codemirror_mode": {
    "name": "ipython",
    "version": 3
   },
   "file_extension": ".py",
   "mimetype": "text/x-python",
   "name": "python",
   "nbconvert_exporter": "python",
   "pygments_lexer": "ipython3",
   "version": "3.7.3"
  }
 },
 "nbformat": 4,
 "nbformat_minor": 2
}
