{
 "cells": [
  {
   "cell_type": "markdown",
   "metadata": {},
   "source": [
    "## Day objectives\n",
    "- conditional statements\n",
    "- loop\n",
    "- jump statements"
   ]
  },
  {
   "cell_type": "markdown",
   "metadata": {},
   "source": [
    "## Conditional statements\n",
    "- The decision making is depending on the condition wheter the conditin is satisified or not"
   ]
  },
  {
   "cell_type": "markdown",
   "metadata": {},
   "source": [
    "**In python we have 3 conditional statements\n",
    "- if\n",
    "- elif(else if)\n",
    "- else"
   ]
  },
  {
   "cell_type": "markdown",
   "metadata": {},
   "source": [
    "Syntax in other programming languages\n",
    "```\n",
    "if(condition=True){\n",
    "------------------\n",
    "----------------\n",
    "}\n",
    "```"
   ]
  },
  {
   "cell_type": "markdown",
   "metadata": {},
   "source": [
    "- In python the basic sytax \n",
    "```\n",
    "if (condition):\n",
    "    -------------\n",
    "    ------------\n",
    "    ------------"
   ]
  },
  {
   "cell_type": "markdown",
   "metadata": {},
   "source": [
    "### Indentation\n",
    "- python relies on identation(White space at the beginning of the line)"
   ]
  },
  {
   "cell_type": "code",
   "execution_count": 8,
   "metadata": {},
   "outputs": [
    {
     "name": "stdout",
     "output_type": "stream",
     "text": [
      "Enter a number: 4\n",
      "It is even number\n"
     ]
    }
   ],
   "source": [
    "# Check the given number is even or odd\n",
    "n=int(input(\"Enter a number: \"))\n",
    "if (n % 2 == 0) :\n",
    "    print(\"It is even number\")\n",
    "else :\n",
    "    print(\"it is odd number\")\n",
    "    \n",
    "    "
   ]
  },
  {
   "cell_type": "markdown",
   "metadata": {},
   "source": [
    "### elif\n",
    "- if the previous conditions were not true,then try this condition\n"
   ]
  },
  {
   "cell_type": "markdown",
   "metadata": {},
   "source": [
    "### Nested conditions"
   ]
  },
  {
   "cell_type": "code",
   "execution_count": 10,
   "metadata": {},
   "outputs": [
    {
     "name": "stdout",
     "output_type": "stream",
     "text": [
      "enter a number-4\n",
      "negitive number\n"
     ]
    }
   ],
   "source": [
    "# Check the given is positive or negitive\n",
    "\n",
    "n= int(input(\"enter a number\"))\n",
    "if n!=0:\n",
    "    if n>0:\n",
    "        print(\"positive number\")\n",
    "    else:\n",
    "        print(\"negitive number\")\n",
    "else:\n",
    "    print(\"zero\")"
   ]
  },
  {
   "cell_type": "code",
   "execution_count": null,
   "metadata": {},
   "outputs": [],
   "source": [
    "if n>0:\n",
    "    print(\"positive numbver\")\n",
    "elif n<0:\n",
    "    print(\"negitive num\")\n",
    "else:\n",
    "    print(\"zero\")"
   ]
  },
  {
   "cell_type": "markdown",
   "metadata": {},
   "source": [
    "**assiginment\n",
    "Check the given number is leap year or not**\n",
    "\n",
    "```\n",
    "- year % 400 ==0\n",
    "    or\n",
    "  year % 4 ==0 and year %100 !=0"
   ]
  },
  {
   "cell_type": "code",
   "execution_count": 11,
   "metadata": {},
   "outputs": [
    {
     "name": "stdout",
     "output_type": "stream",
     "text": [
      "Enter a year 2020\n",
      "2020  leapyear\n"
     ]
    }
   ],
   "source": [
    "year=int(input(\"Enter a year \"))\n",
    "if year % 400 ==0:\n",
    "    print(year,\" leapyear\")\n",
    "elif year % 4 ==0 and year % 100 !=0:\n",
    "    print(year,\" leapyear\")\n",
    "else:\n",
    "    print(year,\" not a leap year\")"
   ]
  },
  {
   "cell_type": "markdown",
   "metadata": {},
   "source": [
    "75 to 100 ->A grade\n",
    "60 t0 74 -> B grade\n",
    "35 t0 59 -> c grade\n",
    "below 35 -> fail"
   ]
  },
  {
   "cell_type": "code",
   "execution_count": 3,
   "metadata": {},
   "outputs": [
    {
     "name": "stdout",
     "output_type": "stream",
     "text": [
      "enter marks: 101\n",
      "Invalid input\n"
     ]
    }
   ],
   "source": [
    "# Grading system\n",
    "marks=int(input(\"enter marks: \"))\n",
    "if marks >=0 and marks <=100:\n",
    "    if(marks>=75 and marks<=100):\n",
    "        print(\"A Grade\")\n",
    "    elif(marks>=60 and marks<=74):\n",
    "        print(\"B Grade\")\n",
    "    elif(marks>=35 and marks<=59):\n",
    "        print(\"C Grade\")\n",
    "    else:\n",
    "        print(\"Fail\")\n",
    "else:\n",
    "    print(\"Invalid input\")"
   ]
  },
  {
   "cell_type": "code",
   "execution_count": 4,
   "metadata": {},
   "outputs": [
    {
     "name": "stdout",
     "output_type": "stream",
     "text": [
      "enter marks: 101\n",
      "Invalid input\n"
     ]
    }
   ],
   "source": [
    "marks=int(input(\"enter marks: \"))\n",
    "if(marks>=75 and marks<=100):\n",
    "    print(\"A Grade\")\n",
    "elif(marks>=60 and marks<=74):\n",
    "    print(\"B Grade\")\n",
    "elif(marks>=35 and marks<=59):\n",
    "    print(\"C Grade\")\n",
    "elif(marks<35):\n",
    "    print(\"Fail\")\n",
    "else:\n",
    "    print(\"Invalid input\")"
   ]
  },
  {
   "cell_type": "markdown",
   "metadata": {},
   "source": [
    "## Loops:\n",
    "- loops are used in programming to repeat a specific block of code "
   ]
  },
  {
   "cell_type": "markdown",
   "metadata": {},
   "source": [
    "### For loop\n",
    "- The **for** loop in python is used to iterate over a sequence or other iterable objects.\n",
    "- loop continues until the last item in a sequence"
   ]
  },
  {
   "cell_type": "markdown",
   "metadata": {},
   "source": [
    "```\n",
    "for variable in sequence(start,end,stepcount)"
   ]
  },
  {
   "cell_type": "code",
   "execution_count": 10,
   "metadata": {
    "collapsed": true
   },
   "outputs": [
    {
     "name": "stdout",
     "output_type": "stream",
     "text": [
      "1\n",
      "2\n",
      "3\n",
      "4\n",
      "5\n",
      "6\n",
      "7\n",
      "8\n",
      "9\n",
      "10\n"
     ]
    }
   ],
   "source": [
    "for i in range(1,11,1):\n",
    "    print(i)"
   ]
  },
  {
   "cell_type": "code",
   "execution_count": 13,
   "metadata": {
    "collapsed": true
   },
   "outputs": [
    {
     "name": "stdout",
     "output_type": "stream",
     "text": [
      "10\n",
      "9\n",
      "8\n",
      "7\n",
      "6\n",
      "5\n",
      "4\n",
      "3\n",
      "2\n",
      "1\n"
     ]
    }
   ],
   "source": [
    "for i in range (10,0,-1):    \n",
    "    print(i)"
   ]
  },
  {
   "cell_type": "code",
   "execution_count": 14,
   "metadata": {},
   "outputs": [
    {
     "name": "stdout",
     "output_type": "stream",
     "text": [
      "even numbers 22 odd numbers 23\n"
     ]
    }
   ],
   "source": [
    "# count of evn numbers and odd from 45 to 89:\n",
    "countodd = 0\n",
    "counteven = 0\n",
    "\n",
    "for i in range(45,90):\n",
    "    if(i % 2 == 0):\n",
    "        counteven += 1\n",
    "    else:\n",
    "        countodd += 1\n",
    "print(\"even numbers\",counteven,\"odd numbers\", countodd)"
   ]
  },
  {
   "cell_type": "code",
   "execution_count": 20,
   "metadata": {},
   "outputs": [
    {
     "name": "stdout",
     "output_type": "stream",
     "text": [
      "Enter number40\n",
      "1\n",
      "2\n",
      "4\n",
      "5\n",
      "8\n",
      "10\n",
      "20\n"
     ]
    }
   ],
   "source": [
    "# Factors of a give number\n",
    "#40\n",
    "'''1 * 40 =40\n",
    "2 * 20 =40\n",
    "4 * 10 =40\n",
    "5 * 8 = 40'''\n",
    "\n",
    "a=int(input(\"Enter number\"))\n",
    "for i in range(1,a):\n",
    "    if a%i==0:\n",
    "        print(i)"
   ]
  },
  {
   "cell_type": "code",
   "execution_count": 21,
   "metadata": {},
   "outputs": [
    {
     "name": "stdout",
     "output_type": "stream",
     "text": [
      "enter number5\n",
      "120\n"
     ]
    }
   ],
   "source": [
    "# factorial 5!= 5* 4* 3* 2* 1\n",
    "n=int(input(\"enter number\"))\n",
    "fact=1\n",
    "for i in range(1,n+1):\n",
    "    fact=fact*i\n",
    "print(fact)\n"
   ]
  },
  {
   "cell_type": "code",
   "execution_count": 32,
   "metadata": {},
   "outputs": [
    {
     "name": "stdout",
     "output_type": "stream",
     "text": [
      "enter a num9\n",
      "not a prime\n"
     ]
    }
   ],
   "source": [
    "# find the num is prime or not\n",
    "# 1 and itself % == 0 \n",
    "n= int(input(\"enter a num\"))\n",
    "c=0\n",
    "for i in range(1,n+1):\n",
    "    if n%i==0:\n",
    "        c=c+1\n",
    "if c==2:\n",
    "    print(\"prime\")\n",
    "else:\n",
    "    print(\"not a prime\")"
   ]
  },
  {
   "cell_type": "markdown",
   "metadata": {},
   "source": [
    "## Inner loops"
   ]
  },
  {
   "cell_type": "code",
   "execution_count": 35,
   "metadata": {
    "scrolled": true
   },
   "outputs": [
    {
     "name": "stdout",
     "output_type": "stream",
     "text": [
      "\n",
      "1 * 1 = 1\n",
      "1 * 2 = 2\n",
      "1 * 3 = 3\n",
      "1 * 4 = 4\n",
      "1 * 5 = 5\n",
      "1 * 6 = 6\n",
      "1 * 7 = 7\n",
      "1 * 8 = 8\n",
      "1 * 9 = 9\n",
      "1 * 10 = 10\n",
      "\n",
      "2 * 1 = 2\n",
      "2 * 2 = 4\n",
      "2 * 3 = 6\n",
      "2 * 4 = 8\n",
      "2 * 5 = 10\n",
      "2 * 6 = 12\n",
      "2 * 7 = 14\n",
      "2 * 8 = 16\n",
      "2 * 9 = 18\n",
      "2 * 10 = 20\n",
      "\n",
      "3 * 1 = 3\n",
      "3 * 2 = 6\n",
      "3 * 3 = 9\n",
      "3 * 4 = 12\n",
      "3 * 5 = 15\n",
      "3 * 6 = 18\n",
      "3 * 7 = 21\n",
      "3 * 8 = 24\n",
      "3 * 9 = 27\n",
      "3 * 10 = 30\n",
      "\n",
      "4 * 1 = 4\n",
      "4 * 2 = 8\n",
      "4 * 3 = 12\n",
      "4 * 4 = 16\n",
      "4 * 5 = 20\n",
      "4 * 6 = 24\n",
      "4 * 7 = 28\n",
      "4 * 8 = 32\n",
      "4 * 9 = 36\n",
      "4 * 10 = 40\n",
      "\n",
      "5 * 1 = 5\n",
      "5 * 2 = 10\n",
      "5 * 3 = 15\n",
      "5 * 4 = 20\n",
      "5 * 5 = 25\n",
      "5 * 6 = 30\n",
      "5 * 7 = 35\n",
      "5 * 8 = 40\n",
      "5 * 9 = 45\n",
      "5 * 10 = 50\n"
     ]
    }
   ],
   "source": [
    "## tables\n",
    "\n",
    "# 1 to n tables\n",
    "# *,=\n",
    "\n",
    "n=5\n",
    "for i in range(1,n+1):\n",
    "    print()\n",
    "    for j in range(1,11):\n",
    "        print(i,\"*\",j,\"=\",i*j)\n",
    "    "
   ]
  },
  {
   "cell_type": "markdown",
   "metadata": {},
   "source": [
    "```\n",
    "* * * * *\n",
    "* * * * *\n",
    "* * * * *\n",
    "* * * * *\n",
    "* * * * *\n",
    "```\n",
    "i=1"
   ]
  },
  {
   "cell_type": "code",
   "execution_count": 47,
   "metadata": {},
   "outputs": [
    {
     "name": "stdout",
     "output_type": "stream",
     "text": [
      "5\n",
      "* * * * * 1\n",
      "* * * * * 2\n",
      "* * * * * 3\n",
      "* * * * * 4\n",
      "* * * * * 5\n"
     ]
    }
   ],
   "source": [
    "n=int(input())\n",
    "for i in range(1,n+1):\n",
    "    for j in range(1,n+1):\n",
    "        print(\"*\",end=\" \")\n",
    "    print(i,end=\"\\n\")"
   ]
  },
  {
   "cell_type": "markdown",
   "metadata": {},
   "source": [
    "## While loop\n",
    "- The while loop in pyhton is used to iterate over a block of code as long as the condition is true"
   ]
  },
  {
   "cell_type": "markdown",
   "metadata": {},
   "source": [
    "```\n",
    "intiali\n",
    "while condition:\n",
    "    statement\n",
    "    increement or decre"
   ]
  },
  {
   "cell_type": "code",
   "execution_count": 51,
   "metadata": {},
   "outputs": [
    {
     "name": "stdout",
     "output_type": "stream",
     "text": [
      "0,1,2,3,4,5,6,7,8,9,10,"
     ]
    }
   ],
   "source": [
    "i=0\n",
    "while i<=10:\n",
    "    print(i,end=\",\")\n",
    "    i+=1\n",
    "    "
   ]
  },
  {
   "cell_type": "code",
   "execution_count": null,
   "metadata": {},
   "outputs": [],
   "source": [
    "# 9876"
   ]
  },
  {
   "cell_type": "code",
   "execution_count": 54,
   "metadata": {},
   "outputs": [
    {
     "name": "stdout",
     "output_type": "stream",
     "text": [
      "enter a number89\n",
      "A grade\n"
     ]
    }
   ],
   "source": [
    "n = int(input(\"enter a number\"))\n",
    "if n >=0 and n <=100:\n",
    "    if n>=35 and n<=60:\n",
    "        print(\"c grade\")\n",
    "    elif n>=60 and n<=74:\n",
    "        print(\"b grade\")\n",
    "    elif n>=75 and n<=100:\n",
    "        print(\"A grade\")\n",
    "    elif n<35:\n",
    "        print(\"fail\")\n",
    "else:\n",
    "    print(\"invalid\")\n"
   ]
  },
  {
   "cell_type": "code",
   "execution_count": 55,
   "metadata": {},
   "outputs": [
    {
     "name": "stdout",
     "output_type": "stream",
     "text": [
      "0 1 2 3 4 5 6 7 8 9 10 "
     ]
    }
   ],
   "source": [
    "i=0\n",
    "while i<=10:\n",
    "    print (i,end=\" \") \n",
    "    i+=1"
   ]
  },
  {
   "cell_type": "code",
   "execution_count": null,
   "metadata": {},
   "outputs": [],
   "source": [
    "9876"
   ]
  }
 ],
 "metadata": {
  "kernelspec": {
   "display_name": "Python 3",
   "language": "python",
   "name": "python3"
  },
  "language_info": {
   "codemirror_mode": {
    "name": "ipython",
    "version": 3
   },
   "file_extension": ".py",
   "mimetype": "text/x-python",
   "name": "python",
   "nbconvert_exporter": "python",
   "pygments_lexer": "ipython3",
   "version": "3.7.3"
  }
 },
 "nbformat": 4,
 "nbformat_minor": 2
}
