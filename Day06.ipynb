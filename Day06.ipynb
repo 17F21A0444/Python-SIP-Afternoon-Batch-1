{
 "cells": [
  {
   "cell_type": "markdown",
   "metadata": {},
   "source": [
    "## day objectives\n",
    "- Problem sloving..."
   ]
  },
  {
   "cell_type": "code",
   "execution_count": 5,
   "metadata": {},
   "outputs": [
    {
     "name": "stdout",
     "output_type": "stream",
     "text": [
      "Ravikishor\n",
      "{'age': 25, 'place': 'srikakulam', 'ph': 99999999}\n"
     ]
    }
   ],
   "source": [
    "def person(name,**kwlen):\n",
    "    print(name)\n",
    "    print(kwlen)\n",
    "person(name=\"Ravikishor\",age=25,place=\"srikakulam\",ph=99999999)"
   ]
  },
  {
   "cell_type": "markdown",
   "metadata": {},
   "source": [
    "**Find the largest number  in given 3 numbers from user??\n",
    "- take 3 input and find out the biggist number\n"
   ]
  },
  {
   "cell_type": "code",
   "execution_count": 6,
   "metadata": {},
   "outputs": [
    {
     "name": "stdout",
     "output_type": "stream",
     "text": [
      "6\n",
      "3\n",
      "9\n",
      "9  largest\n"
     ]
    }
   ],
   "source": [
    "a=int(input())\n",
    "b=int(input())\n",
    "c=int(input())\n",
    "\n",
    "if a>b and a>c:\n",
    "    print(a,\" largest num\")\n",
    "elif b>c:\n",
    "    print(b, \" largest num\")\n",
    "else:\n",
    "    print(c,\" largest\")"
   ]
  },
  {
   "cell_type": "markdown",
   "metadata": {},
   "source": [
    "**check the number which is divisible by 5 and 7\n",
    "- if it is only divisible by 5 the output will come only divisible by 5 as well as 7"
   ]
  },
  {
   "cell_type": "code",
   "execution_count": 13,
   "metadata": {},
   "outputs": [
    {
     "name": "stdout",
     "output_type": "stream",
     "text": [
      "5\n",
      "only satisified by 5\n"
     ]
    }
   ],
   "source": [
    "n=int(input())\n",
    "if n % 5 ==0 and n % 7==0:\n",
    "    print(\"satisified both two conditions\")\n",
    "elif n % 5 ==0 :\n",
    "    print(\"only satisified by 5\")\n",
    "elif n % 7 ==0 :\n",
    "    print(\"only satisified by 7\")\n",
    "else: \n",
    "    print(\"not satisified\")\n",
    "    "
   ]
  },
  {
   "cell_type": "markdown",
   "metadata": {},
   "source": [
    "```\n",
    "output\n",
    "\n",
    "17F21A0401\n",
    "17F21A0402\n",
    "17F21A0403\n",
    "---------\n",
    "---------\n",
    "---------\n",
    "17F21A0419\n",
    "```\n",
    "n=int(input())"
   ]
  },
  {
   "cell_type": "code",
   "execution_count": 20,
   "metadata": {
    "collapsed": true
   },
   "outputs": [
    {
     "name": "stdout",
     "output_type": "stream",
     "text": [
      "enter a number30\n",
      "17F21A04001\n",
      "17F21A04002\n",
      "17F21A04003\n",
      "17F21A04004\n",
      "17F21A04005\n",
      "17F21A04006\n",
      "17F21A04007\n",
      "17F21A04008\n",
      "17F21A04009\n",
      "17F21A04010\n",
      "17F21A04011\n",
      "17F21A04012\n",
      "17F21A04013\n",
      "17F21A04014\n",
      "17F21A04015\n",
      "17F21A04016\n",
      "17F21A04017\n",
      "17F21A04018\n",
      "17F21A04019\n",
      "17F21A04020\n",
      "17F21A04021\n",
      "17F21A04022\n",
      "17F21A04023\n",
      "17F21A04024\n",
      "17F21A04025\n",
      "17F21A04026\n",
      "17F21A04027\n",
      "17F21A04028\n",
      "17F21A04029\n",
      "17F21A04030\n"
     ]
    }
   ],
   "source": [
    "n=int(input(\"enter a number\"))\n",
    "for i in range(1,n+1):\n",
    "    print(\"17F21A04{:03}\".format(i))\n",
    "    "
   ]
  },
  {
   "cell_type": "markdown",
   "metadata": {},
   "source": [
    "print the 5th table\n",
    "```\n",
    "5 * 1 =5\n",
    "5 * 2 = 10\n",
    "--------\n",
    "--------\n",
    "5 *10 = 50\n",
    "```"
   ]
  },
  {
   "cell_type": "code",
   "execution_count": 23,
   "metadata": {},
   "outputs": [
    {
     "name": "stdout",
     "output_type": "stream",
     "text": [
      "5\n",
      "5 * 1 = 5\n",
      "5 * 2 = 10\n",
      "5 * 3 = 15\n",
      "5 * 4 = 20\n",
      "5 * 5 = 25\n",
      "5 * 6 = 30\n",
      "5 * 7 = 35\n",
      "5 * 8 = 40\n",
      "5 * 9 = 45\n",
      "5 * 10 = 50\n"
     ]
    }
   ],
   "source": [
    "n=int(input())\n",
    "for i in range(1,11):\n",
    "    #print(n,\"*\",i,\"=\",n*i)\n",
    "    print(\"{} * {} = {}\".format(n,i,n*i))"
   ]
  },
  {
   "cell_type": "markdown",
   "metadata": {},
   "source": [
    "**Find the 1 to 100 primes ??**"
   ]
  },
  {
   "cell_type": "code",
   "execution_count": 30,
   "metadata": {},
   "outputs": [
    {
     "name": "stdout",
     "output_type": "stream",
     "text": [
      "1\n",
      "100\n",
      "2,3,5,7,11,13,17,19,23,29,31,37,41,43,47,53,59,61,67,71,73,79,83,89,97,\n",
      "25\n"
     ]
    }
   ],
   "source": [
    "#n=int(input())\n",
    "# 1 and itself  count=2\n",
    "start=int(input())\n",
    "end=int(input())\n",
    "prime_count=0\n",
    "for i in range(start,end+1):\n",
    "    c=0\n",
    "    for j in range(1,i+1):\n",
    "        if  i % j == 0:\n",
    "            c+=1\n",
    "    if c==2:\n",
    "        prime_count+=1\n",
    "        print(i,end=\",\")\n",
    "print()\n",
    "print(prime_count)"
   ]
  },
  {
   "cell_type": "code",
   "execution_count": null,
   "metadata": {},
   "outputs": [],
   "source": [
    "2,3,4"
   ]
  },
  {
   "cell_type": "markdown",
   "metadata": {},
   "source": [
    "pattern based problem \n",
    "output -\n",
    "```\n",
    "* * * * *\n",
    "* * * * *\n",
    "* * * * *\n",
    "* * * * *\n",
    "* * * * *\n",
    "```"
   ]
  },
  {
   "cell_type": "code",
   "execution_count": 32,
   "metadata": {},
   "outputs": [
    {
     "name": "stdout",
     "output_type": "stream",
     "text": [
      "Enter the number of lines or stars5\n",
      "* * * * * \n",
      "* * * * * \n",
      "* * * * * \n",
      "* * * * * \n",
      "* * * * * \n"
     ]
    }
   ],
   "source": [
    "n=int(input(\"Enter the number of lines or stars\"))\n",
    "for i in range(1,n+1):\n",
    "    for j in range(1,n+1):\n",
    "        print(\"*\",end=\" \")\n",
    "    print()"
   ]
  },
  {
   "cell_type": "markdown",
   "metadata": {},
   "source": [
    "```\n",
    "* * * * *"
   ]
  },
  {
   "cell_type": "code",
   "execution_count": 36,
   "metadata": {},
   "outputs": [
    {
     "name": "stdout",
     "output_type": "stream",
     "text": [
      "5\n",
      "* * * * * \n",
      "\n",
      "\n",
      "\n",
      "\n"
     ]
    }
   ],
   "source": [
    "n=int(input())\n",
    "for i in range(1,n+1):\n",
    "    for j in range(1,n+1):\n",
    "        if i==1:\n",
    "            print(\"*\",end=\" \")\n",
    "    print()"
   ]
  },
  {
   "cell_type": "markdown",
   "metadata": {},
   "source": [
    "```\n",
    "* * * * *\n",
    "*\n",
    "*\n",
    "*\n",
    "*"
   ]
  },
  {
   "cell_type": "code",
   "execution_count": 39,
   "metadata": {},
   "outputs": [
    {
     "name": "stdout",
     "output_type": "stream",
     "text": [
      "5\n",
      "* * * * * \n",
      "* \n",
      "* \n",
      "* \n",
      "* \n"
     ]
    }
   ],
   "source": [
    "n=int(input())\n",
    "for i in range(1,n+1):\n",
    "    for j in range(1,n+1):\n",
    "        if j==1 or i ==1 :\n",
    "            print(\"*\",end=\" \")\n",
    "    print()"
   ]
  },
  {
   "cell_type": "markdown",
   "metadata": {},
   "source": [
    "out put be like\n",
    "```\n",
    "* \n",
    "  *\n",
    "    *\n",
    "      *\n",
    "        *\n",
    "```"
   ]
  },
  {
   "cell_type": "code",
   "execution_count": 59,
   "metadata": {},
   "outputs": [
    {
     "name": "stdout",
     "output_type": "stream",
     "text": [
      "5\n",
      "*         \n",
      "  *       \n",
      "    *     \n",
      "      *   \n",
      "        * \n"
     ]
    }
   ],
   "source": [
    "n=int(input())\n",
    "for i in range(1,n+1):\n",
    "    for j in range(1,n+1):\n",
    "        if j==i: #i[0]j[0] and i[1]j[1]\n",
    "            print(\"*\",end=\" \")\n",
    "        else:\n",
    "            print(\" \",end=\" \")\n",
    "    print()"
   ]
  },
  {
   "cell_type": "code",
   "execution_count": 56,
   "metadata": {
    "collapsed": true
   },
   "outputs": [
    {
     "name": "stdout",
     "output_type": "stream",
     "text": [
      "enter no:5\n",
      "*\n",
      "\n",
      "  *\n",
      "\n",
      "    *\n",
      "\n",
      "      *\n",
      "\n",
      "        *\n",
      "\n"
     ]
    }
   ],
   "source": [
    "n = int(input(\"enter no:\"))\n",
    "for i in range(1,n+1):\n",
    "    for j in range(1,i+1):\n",
    "        if(j<i):\n",
    "            print(\" \",end = \" \")\n",
    "        else:\n",
    "            print(\"*\")\n",
    "    print()   "
   ]
  },
  {
   "cell_type": "markdown",
   "metadata": {},
   "source": [
    "```\n",
    "*        *\n",
    "  *    *\n",
    "    *\n",
    "  *    *\n",
    "*        *"
   ]
  },
  {
   "cell_type": "code",
   "execution_count": 67,
   "metadata": {},
   "outputs": [
    {
     "name": "stdout",
     "output_type": "stream",
     "text": [
      "5\n",
      "*       * \n",
      "  *   *   \n",
      "    *     \n",
      "  *   *   \n",
      "*       * \n"
     ]
    }
   ],
   "source": [
    "n=int(input())\n",
    "for i in range(1,n+1):\n",
    "    for j in range(1,n+1):\n",
    "        if i==j or i+j==n+1: #i[0]j[0] and i[1]j[1]\n",
    "            print(\"*\",end=\" \")\n",
    "        else:\n",
    "            print(\" \",end=\" \")\n",
    "    print()"
   ]
  },
  {
   "cell_type": "markdown",
   "metadata": {},
   "source": [
    "**Prime numbers 1 to 100 using with functions** "
   ]
  },
  {
   "cell_type": "code",
   "execution_count": 99,
   "metadata": {},
   "outputs": [],
   "source": [
    "def isprime(a):\n",
    "    if a==1:\n",
    "        return ()\n",
    "    c=0\n",
    "    for i in range(2,a):\n",
    "        if a%i==0:\n",
    "            return \n",
    "    if c==0:\n",
    "        return (a)\n",
    "    return False\n"
   ]
  },
  {
   "cell_type": "code",
   "execution_count": 100,
   "metadata": {},
   "outputs": [
    {
     "name": "stdout",
     "output_type": "stream",
     "text": [
      "2 3 5 7 11 13 17 19 23 29 31 37 41 43 47 53 59 61 67 71 73 79 83 89 97 "
     ]
    }
   ],
   "source": [
    "for i in range(1,101):\n",
    "    if isprime(i):\n",
    "        print(i,end=\" \")"
   ]
  },
  {
   "cell_type": "code",
   "execution_count": 84,
   "metadata": {},
   "outputs": [
    {
     "name": "stdout",
     "output_type": "stream",
     "text": [
      "data\n",
      "data2\n"
     ]
    }
   ],
   "source": [
    "def add():\n",
    "    print(\"data\")\n",
    "    print(\"data2\")\n",
    "    return\n",
    "    return(\"data4\")\n",
    "    print(\"d5\")\n",
    "add()"
   ]
  },
  {
   "cell_type": "code",
   "execution_count": null,
   "metadata": {},
   "outputs": [],
   "source": []
  }
 ],
 "metadata": {
  "kernelspec": {
   "display_name": "Python 3",
   "language": "python",
   "name": "python3"
  },
  "language_info": {
   "codemirror_mode": {
    "name": "ipython",
    "version": 3
   },
   "file_extension": ".py",
   "mimetype": "text/x-python",
   "name": "python",
   "nbconvert_exporter": "python",
   "pygments_lexer": "ipython3",
   "version": "3.7.3"
  }
 },
 "nbformat": 4,
 "nbformat_minor": 2
}
